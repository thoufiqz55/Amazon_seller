{
  "nbformat": 4,
  "nbformat_minor": 0,
  "metadata": {
    "colab": {
      "name": "Amazon_seller.ipynb",
      "provenance": [],
      "collapsed_sections": [],
      "mount_file_id": "1R1w3Y5fsRrUbEeezPiUwk72KQbSfQmL9",
      "authorship_tag": "ABX9TyPcWh3Y5i81Dr0rtzAOM14a",
      "include_colab_link": true
    },
    "kernelspec": {
      "name": "python3",
      "display_name": "Python 3"
    },
    "language_info": {
      "name": "python"
    }
  },
  "cells": [
    {
      "cell_type": "markdown",
      "metadata": {
        "id": "view-in-github",
        "colab_type": "text"
      },
      "source": [
        "<a href=\"https://colab.research.google.com/github/thoufiqz55/Amazon_seller/blob/main/Amazon_seller.ipynb\" target=\"_parent\"><img src=\"https://colab.research.google.com/assets/colab-badge.svg\" alt=\"Open In Colab\"/></a>"
      ]
    },
    {
      "cell_type": "markdown",
      "source": [
        "Importing Libraries"
      ],
      "metadata": {
        "id": "t3X6nHRnQDi7"
      }
    },
    {
      "cell_type": "code",
      "execution_count": null,
      "metadata": {
        "id": "0xwzFRfn6N2B"
      },
      "outputs": [],
      "source": [
        "import numpy as np\n",
        "import pandas as pd\n",
        "import seaborn as sns"
      ]
    },
    {
      "cell_type": "markdown",
      "source": [
        "Loading the dataset"
      ],
      "metadata": {
        "id": "d3U3yPhhsh9g"
      }
    },
    {
      "cell_type": "code",
      "source": [
        "data=pd.read_excel('/content/drive/MyDrive/Dataset/orders_data.xlsx')"
      ],
      "metadata": {
        "id": "KVcd8GHW6cQH"
      },
      "execution_count": null,
      "outputs": []
    },
    {
      "cell_type": "code",
      "source": [
        "data.head()"
      ],
      "metadata": {
        "colab": {
          "base_uri": "https://localhost:8080/",
          "height": 424
        },
        "id": "nvojDIrL7NYP",
        "outputId": "20c93b1b-c4e6-43e3-c18c-9ec5a0fd3222"
      },
      "execution_count": null,
      "outputs": [
        {
          "output_type": "execute_result",
          "data": {
            "text/plain": [
              "              order_no                       order_date       buyer  \\\n",
              "0  405-9763961-5211537  Sun, 18 Jul, 2021, 10:38 pm IST         Mr.   \n",
              "1  404-3964908-7850720   Tue, 19 Oct, 2021, 6:05 pm IST       Minam   \n",
              "2  171-8103182-4289117  Sun, 28 Nov, 2021, 10:20 pm IST  yatipertin   \n",
              "3  405-3171677-9557154   Wed, 28 Jul, 2021, 4:06 am IST       aciya   \n",
              "4  402-8910771-1215552  Tue, 28 Sept, 2021, 2:50 pm IST     Susmita   \n",
              "\n",
              "      ship_city         ship_state                 sku  \\\n",
              "0   CHANDIGARH,         CHANDIGARH  SKU:  2X-3C0F-KNJE   \n",
              "1     PASIGHAT,  ARUNACHAL PRADESH  SKU:  DN-0WDX-VYOT   \n",
              "2     PASIGHAT,  ARUNACHAL PRADESH  SKU:  DN-0WDX-VYOT   \n",
              "3  DEVARAKONDA,          TELANGANA  SKU:  AH-J3AO-R7DN   \n",
              "4       MUMBAI,        MAHARASHTRA  SKU:  KL-7WAA-Z82I   \n",
              "\n",
              "                                         description  quantity item_total  \\\n",
              "0  100% Leather Elephant Shaped Piggy Coin Bank |...         1    ₹449.00   \n",
              "1  Women's Set of 5 Multicolor Pure Leather Singl...         1    ₹449.00   \n",
              "2  Women's Set of 5 Multicolor Pure Leather Singl...         1    ₹449.00   \n",
              "3  Pure 100% Leather Block Print Rectangular Jewe...         1        NaN   \n",
              "4  Pure Leather Sling Bag with Multiple Pockets a...         1  ₹1,099.00   \n",
              "\n",
              "  shipping_fee               cod        order_status  \n",
              "0          NaN               NaN  Delivered to buyer  \n",
              "1       ₹60.18               NaN  Delivered to buyer  \n",
              "2       ₹60.18               NaN  Delivered to buyer  \n",
              "3          NaN  Cash On Delivery  Delivered to buyer  \n",
              "4       ₹84.96               NaN  Delivered to buyer  "
            ],
            "text/html": [
              "\n",
              "  <div id=\"df-f72bc0c8-d9e6-40f3-87f4-ddaab3987026\">\n",
              "    <div class=\"colab-df-container\">\n",
              "      <div>\n",
              "<style scoped>\n",
              "    .dataframe tbody tr th:only-of-type {\n",
              "        vertical-align: middle;\n",
              "    }\n",
              "\n",
              "    .dataframe tbody tr th {\n",
              "        vertical-align: top;\n",
              "    }\n",
              "\n",
              "    .dataframe thead th {\n",
              "        text-align: right;\n",
              "    }\n",
              "</style>\n",
              "<table border=\"1\" class=\"dataframe\">\n",
              "  <thead>\n",
              "    <tr style=\"text-align: right;\">\n",
              "      <th></th>\n",
              "      <th>order_no</th>\n",
              "      <th>order_date</th>\n",
              "      <th>buyer</th>\n",
              "      <th>ship_city</th>\n",
              "      <th>ship_state</th>\n",
              "      <th>sku</th>\n",
              "      <th>description</th>\n",
              "      <th>quantity</th>\n",
              "      <th>item_total</th>\n",
              "      <th>shipping_fee</th>\n",
              "      <th>cod</th>\n",
              "      <th>order_status</th>\n",
              "    </tr>\n",
              "  </thead>\n",
              "  <tbody>\n",
              "    <tr>\n",
              "      <th>0</th>\n",
              "      <td>405-9763961-5211537</td>\n",
              "      <td>Sun, 18 Jul, 2021, 10:38 pm IST</td>\n",
              "      <td>Mr.</td>\n",
              "      <td>CHANDIGARH,</td>\n",
              "      <td>CHANDIGARH</td>\n",
              "      <td>SKU:  2X-3C0F-KNJE</td>\n",
              "      <td>100% Leather Elephant Shaped Piggy Coin Bank |...</td>\n",
              "      <td>1</td>\n",
              "      <td>₹449.00</td>\n",
              "      <td>NaN</td>\n",
              "      <td>NaN</td>\n",
              "      <td>Delivered to buyer</td>\n",
              "    </tr>\n",
              "    <tr>\n",
              "      <th>1</th>\n",
              "      <td>404-3964908-7850720</td>\n",
              "      <td>Tue, 19 Oct, 2021, 6:05 pm IST</td>\n",
              "      <td>Minam</td>\n",
              "      <td>PASIGHAT,</td>\n",
              "      <td>ARUNACHAL PRADESH</td>\n",
              "      <td>SKU:  DN-0WDX-VYOT</td>\n",
              "      <td>Women's Set of 5 Multicolor Pure Leather Singl...</td>\n",
              "      <td>1</td>\n",
              "      <td>₹449.00</td>\n",
              "      <td>₹60.18</td>\n",
              "      <td>NaN</td>\n",
              "      <td>Delivered to buyer</td>\n",
              "    </tr>\n",
              "    <tr>\n",
              "      <th>2</th>\n",
              "      <td>171-8103182-4289117</td>\n",
              "      <td>Sun, 28 Nov, 2021, 10:20 pm IST</td>\n",
              "      <td>yatipertin</td>\n",
              "      <td>PASIGHAT,</td>\n",
              "      <td>ARUNACHAL PRADESH</td>\n",
              "      <td>SKU:  DN-0WDX-VYOT</td>\n",
              "      <td>Women's Set of 5 Multicolor Pure Leather Singl...</td>\n",
              "      <td>1</td>\n",
              "      <td>₹449.00</td>\n",
              "      <td>₹60.18</td>\n",
              "      <td>NaN</td>\n",
              "      <td>Delivered to buyer</td>\n",
              "    </tr>\n",
              "    <tr>\n",
              "      <th>3</th>\n",
              "      <td>405-3171677-9557154</td>\n",
              "      <td>Wed, 28 Jul, 2021, 4:06 am IST</td>\n",
              "      <td>aciya</td>\n",
              "      <td>DEVARAKONDA,</td>\n",
              "      <td>TELANGANA</td>\n",
              "      <td>SKU:  AH-J3AO-R7DN</td>\n",
              "      <td>Pure 100% Leather Block Print Rectangular Jewe...</td>\n",
              "      <td>1</td>\n",
              "      <td>NaN</td>\n",
              "      <td>NaN</td>\n",
              "      <td>Cash On Delivery</td>\n",
              "      <td>Delivered to buyer</td>\n",
              "    </tr>\n",
              "    <tr>\n",
              "      <th>4</th>\n",
              "      <td>402-8910771-1215552</td>\n",
              "      <td>Tue, 28 Sept, 2021, 2:50 pm IST</td>\n",
              "      <td>Susmita</td>\n",
              "      <td>MUMBAI,</td>\n",
              "      <td>MAHARASHTRA</td>\n",
              "      <td>SKU:  KL-7WAA-Z82I</td>\n",
              "      <td>Pure Leather Sling Bag with Multiple Pockets a...</td>\n",
              "      <td>1</td>\n",
              "      <td>₹1,099.00</td>\n",
              "      <td>₹84.96</td>\n",
              "      <td>NaN</td>\n",
              "      <td>Delivered to buyer</td>\n",
              "    </tr>\n",
              "  </tbody>\n",
              "</table>\n",
              "</div>\n",
              "      <button class=\"colab-df-convert\" onclick=\"convertToInteractive('df-f72bc0c8-d9e6-40f3-87f4-ddaab3987026')\"\n",
              "              title=\"Convert this dataframe to an interactive table.\"\n",
              "              style=\"display:none;\">\n",
              "        \n",
              "  <svg xmlns=\"http://www.w3.org/2000/svg\" height=\"24px\"viewBox=\"0 0 24 24\"\n",
              "       width=\"24px\">\n",
              "    <path d=\"M0 0h24v24H0V0z\" fill=\"none\"/>\n",
              "    <path d=\"M18.56 5.44l.94 2.06.94-2.06 2.06-.94-2.06-.94-.94-2.06-.94 2.06-2.06.94zm-11 1L8.5 8.5l.94-2.06 2.06-.94-2.06-.94L8.5 2.5l-.94 2.06-2.06.94zm10 10l.94 2.06.94-2.06 2.06-.94-2.06-.94-.94-2.06-.94 2.06-2.06.94z\"/><path d=\"M17.41 7.96l-1.37-1.37c-.4-.4-.92-.59-1.43-.59-.52 0-1.04.2-1.43.59L10.3 9.45l-7.72 7.72c-.78.78-.78 2.05 0 2.83L4 21.41c.39.39.9.59 1.41.59.51 0 1.02-.2 1.41-.59l7.78-7.78 2.81-2.81c.8-.78.8-2.07 0-2.86zM5.41 20L4 18.59l7.72-7.72 1.47 1.35L5.41 20z\"/>\n",
              "  </svg>\n",
              "      </button>\n",
              "      \n",
              "  <style>\n",
              "    .colab-df-container {\n",
              "      display:flex;\n",
              "      flex-wrap:wrap;\n",
              "      gap: 12px;\n",
              "    }\n",
              "\n",
              "    .colab-df-convert {\n",
              "      background-color: #E8F0FE;\n",
              "      border: none;\n",
              "      border-radius: 50%;\n",
              "      cursor: pointer;\n",
              "      display: none;\n",
              "      fill: #1967D2;\n",
              "      height: 32px;\n",
              "      padding: 0 0 0 0;\n",
              "      width: 32px;\n",
              "    }\n",
              "\n",
              "    .colab-df-convert:hover {\n",
              "      background-color: #E2EBFA;\n",
              "      box-shadow: 0px 1px 2px rgba(60, 64, 67, 0.3), 0px 1px 3px 1px rgba(60, 64, 67, 0.15);\n",
              "      fill: #174EA6;\n",
              "    }\n",
              "\n",
              "    [theme=dark] .colab-df-convert {\n",
              "      background-color: #3B4455;\n",
              "      fill: #D2E3FC;\n",
              "    }\n",
              "\n",
              "    [theme=dark] .colab-df-convert:hover {\n",
              "      background-color: #434B5C;\n",
              "      box-shadow: 0px 1px 3px 1px rgba(0, 0, 0, 0.15);\n",
              "      filter: drop-shadow(0px 1px 2px rgba(0, 0, 0, 0.3));\n",
              "      fill: #FFFFFF;\n",
              "    }\n",
              "  </style>\n",
              "\n",
              "      <script>\n",
              "        const buttonEl =\n",
              "          document.querySelector('#df-f72bc0c8-d9e6-40f3-87f4-ddaab3987026 button.colab-df-convert');\n",
              "        buttonEl.style.display =\n",
              "          google.colab.kernel.accessAllowed ? 'block' : 'none';\n",
              "\n",
              "        async function convertToInteractive(key) {\n",
              "          const element = document.querySelector('#df-f72bc0c8-d9e6-40f3-87f4-ddaab3987026');\n",
              "          const dataTable =\n",
              "            await google.colab.kernel.invokeFunction('convertToInteractive',\n",
              "                                                     [key], {});\n",
              "          if (!dataTable) return;\n",
              "\n",
              "          const docLinkHtml = 'Like what you see? Visit the ' +\n",
              "            '<a target=\"_blank\" href=https://colab.research.google.com/notebooks/data_table.ipynb>data table notebook</a>'\n",
              "            + ' to learn more about interactive tables.';\n",
              "          element.innerHTML = '';\n",
              "          dataTable['output_type'] = 'display_data';\n",
              "          await google.colab.output.renderOutput(dataTable, element);\n",
              "          const docLink = document.createElement('div');\n",
              "          docLink.innerHTML = docLinkHtml;\n",
              "          element.appendChild(docLink);\n",
              "        }\n",
              "      </script>\n",
              "    </div>\n",
              "  </div>\n",
              "  "
            ]
          },
          "metadata": {},
          "execution_count": 3
        }
      ]
    },
    {
      "cell_type": "code",
      "source": [
        "data.shape"
      ],
      "metadata": {
        "colab": {
          "base_uri": "https://localhost:8080/"
        },
        "id": "zCtw9Jzw7YA_",
        "outputId": "8a226cc8-d5dc-447c-d0bc-f0d0e15bf2b8"
      },
      "execution_count": null,
      "outputs": [
        {
          "output_type": "execute_result",
          "data": {
            "text/plain": [
              "(171, 12)"
            ]
          },
          "metadata": {},
          "execution_count": 4
        }
      ]
    },
    {
      "cell_type": "code",
      "source": [
        "data.info()"
      ],
      "metadata": {
        "colab": {
          "base_uri": "https://localhost:8080/"
        },
        "id": "69XW7dE77chy",
        "outputId": "eabd62c8-997c-450a-948e-ed9893e2593c"
      },
      "execution_count": null,
      "outputs": [
        {
          "output_type": "stream",
          "name": "stdout",
          "text": [
            "<class 'pandas.core.frame.DataFrame'>\n",
            "RangeIndex: 171 entries, 0 to 170\n",
            "Data columns (total 12 columns):\n",
            " #   Column        Non-Null Count  Dtype \n",
            "---  ------        --------------  ----- \n",
            " 0   order_no      171 non-null    object\n",
            " 1   order_date    171 non-null    object\n",
            " 2   buyer         171 non-null    object\n",
            " 3   ship_city     171 non-null    object\n",
            " 4   ship_state    171 non-null    object\n",
            " 5   sku           171 non-null    object\n",
            " 6   description   171 non-null    object\n",
            " 7   quantity      171 non-null    int64 \n",
            " 8   item_total    153 non-null    object\n",
            " 9   shipping_fee  145 non-null    object\n",
            " 10  cod           47 non-null     object\n",
            " 11  order_status  171 non-null    object\n",
            "dtypes: int64(1), object(11)\n",
            "memory usage: 16.2+ KB\n"
          ]
        }
      ]
    },
    {
      "cell_type": "markdown",
      "source": [
        "Importing Datetime"
      ],
      "metadata": {
        "id": "OTOp5CKUsnk7"
      }
    },
    {
      "cell_type": "code",
      "source": [
        "data['year'] = pd.DatetimeIndex(data['order_date']).year\n",
        "data['date'] = pd.DatetimeIndex(data['order_date']).date\n",
        "data['time'] = pd.DatetimeIndex(data['order_date']).time\n",
        "data['month_name'] = pd.DatetimeIndex(data['date']).month_name()\n",
        "data['day_name'] = pd.DatetimeIndex(data['date']).day_name()"
      ],
      "metadata": {
        "colab": {
          "base_uri": "https://localhost:8080/"
        },
        "id": "c1NI8IU7A4Zi",
        "outputId": "da239a87-5934-406e-ad07-b602b558b905"
      },
      "execution_count": null,
      "outputs": [
        {
          "output_type": "stream",
          "name": "stderr",
          "text": [
            "/usr/local/lib/python3.7/dist-packages/dateutil/parser/_parser.py:1212: UnknownTimezoneWarning: tzname IST identified but not understood.  Pass `tzinfos` argument in order to correctly return a timezone-aware datetime.  In a future version, this will raise an exception.\n",
            "  category=UnknownTimezoneWarning)\n"
          ]
        }
      ]
    },
    {
      "cell_type": "code",
      "source": [
        "data.head()"
      ],
      "metadata": {
        "colab": {
          "base_uri": "https://localhost:8080/",
          "height": 548
        },
        "id": "C7XCN7KaBNHf",
        "outputId": "091bed0a-f24a-40ca-ceff-d6a3396f5d4b"
      },
      "execution_count": null,
      "outputs": [
        {
          "output_type": "execute_result",
          "data": {
            "text/plain": [
              "              order_no                       order_date       buyer  \\\n",
              "0  405-9763961-5211537  Sun, 18 Jul, 2021, 10:38 pm IST         Mr.   \n",
              "1  404-3964908-7850720   Tue, 19 Oct, 2021, 6:05 pm IST       Minam   \n",
              "2  171-8103182-4289117  Sun, 28 Nov, 2021, 10:20 pm IST  yatipertin   \n",
              "3  405-3171677-9557154   Wed, 28 Jul, 2021, 4:06 am IST       aciya   \n",
              "4  402-8910771-1215552  Tue, 28 Sept, 2021, 2:50 pm IST     Susmita   \n",
              "\n",
              "      ship_city         ship_state                 sku  \\\n",
              "0   CHANDIGARH,         CHANDIGARH  SKU:  2X-3C0F-KNJE   \n",
              "1     PASIGHAT,  ARUNACHAL PRADESH  SKU:  DN-0WDX-VYOT   \n",
              "2     PASIGHAT,  ARUNACHAL PRADESH  SKU:  DN-0WDX-VYOT   \n",
              "3  DEVARAKONDA,          TELANGANA  SKU:  AH-J3AO-R7DN   \n",
              "4       MUMBAI,        MAHARASHTRA  SKU:  KL-7WAA-Z82I   \n",
              "\n",
              "                                         description  quantity item_total  \\\n",
              "0  100% Leather Elephant Shaped Piggy Coin Bank |...         1    ₹449.00   \n",
              "1  Women's Set of 5 Multicolor Pure Leather Singl...         1    ₹449.00   \n",
              "2  Women's Set of 5 Multicolor Pure Leather Singl...         1    ₹449.00   \n",
              "3  Pure 100% Leather Block Print Rectangular Jewe...         1        NaN   \n",
              "4  Pure Leather Sling Bag with Multiple Pockets a...         1  ₹1,099.00   \n",
              "\n",
              "  shipping_fee               cod        order_status  year        date  \\\n",
              "0          NaN               NaN  Delivered to buyer  2021  2021-07-18   \n",
              "1       ₹60.18               NaN  Delivered to buyer  2021  2021-10-19   \n",
              "2       ₹60.18               NaN  Delivered to buyer  2021  2021-11-28   \n",
              "3          NaN  Cash On Delivery  Delivered to buyer  2021  2021-07-28   \n",
              "4       ₹84.96               NaN  Delivered to buyer  2021  2021-09-28   \n",
              "\n",
              "       time month_name   day_name  \n",
              "0  22:38:00       July     Sunday  \n",
              "1  18:05:00    October    Tuesday  \n",
              "2  22:20:00   November     Sunday  \n",
              "3  04:06:00       July  Wednesday  \n",
              "4  14:50:00  September    Tuesday  "
            ],
            "text/html": [
              "\n",
              "  <div id=\"df-48f5008e-2f4d-4544-9ecc-2f30d44599eb\">\n",
              "    <div class=\"colab-df-container\">\n",
              "      <div>\n",
              "<style scoped>\n",
              "    .dataframe tbody tr th:only-of-type {\n",
              "        vertical-align: middle;\n",
              "    }\n",
              "\n",
              "    .dataframe tbody tr th {\n",
              "        vertical-align: top;\n",
              "    }\n",
              "\n",
              "    .dataframe thead th {\n",
              "        text-align: right;\n",
              "    }\n",
              "</style>\n",
              "<table border=\"1\" class=\"dataframe\">\n",
              "  <thead>\n",
              "    <tr style=\"text-align: right;\">\n",
              "      <th></th>\n",
              "      <th>order_no</th>\n",
              "      <th>order_date</th>\n",
              "      <th>buyer</th>\n",
              "      <th>ship_city</th>\n",
              "      <th>ship_state</th>\n",
              "      <th>sku</th>\n",
              "      <th>description</th>\n",
              "      <th>quantity</th>\n",
              "      <th>item_total</th>\n",
              "      <th>shipping_fee</th>\n",
              "      <th>cod</th>\n",
              "      <th>order_status</th>\n",
              "      <th>year</th>\n",
              "      <th>date</th>\n",
              "      <th>time</th>\n",
              "      <th>month_name</th>\n",
              "      <th>day_name</th>\n",
              "    </tr>\n",
              "  </thead>\n",
              "  <tbody>\n",
              "    <tr>\n",
              "      <th>0</th>\n",
              "      <td>405-9763961-5211537</td>\n",
              "      <td>Sun, 18 Jul, 2021, 10:38 pm IST</td>\n",
              "      <td>Mr.</td>\n",
              "      <td>CHANDIGARH,</td>\n",
              "      <td>CHANDIGARH</td>\n",
              "      <td>SKU:  2X-3C0F-KNJE</td>\n",
              "      <td>100% Leather Elephant Shaped Piggy Coin Bank |...</td>\n",
              "      <td>1</td>\n",
              "      <td>₹449.00</td>\n",
              "      <td>NaN</td>\n",
              "      <td>NaN</td>\n",
              "      <td>Delivered to buyer</td>\n",
              "      <td>2021</td>\n",
              "      <td>2021-07-18</td>\n",
              "      <td>22:38:00</td>\n",
              "      <td>July</td>\n",
              "      <td>Sunday</td>\n",
              "    </tr>\n",
              "    <tr>\n",
              "      <th>1</th>\n",
              "      <td>404-3964908-7850720</td>\n",
              "      <td>Tue, 19 Oct, 2021, 6:05 pm IST</td>\n",
              "      <td>Minam</td>\n",
              "      <td>PASIGHAT,</td>\n",
              "      <td>ARUNACHAL PRADESH</td>\n",
              "      <td>SKU:  DN-0WDX-VYOT</td>\n",
              "      <td>Women's Set of 5 Multicolor Pure Leather Singl...</td>\n",
              "      <td>1</td>\n",
              "      <td>₹449.00</td>\n",
              "      <td>₹60.18</td>\n",
              "      <td>NaN</td>\n",
              "      <td>Delivered to buyer</td>\n",
              "      <td>2021</td>\n",
              "      <td>2021-10-19</td>\n",
              "      <td>18:05:00</td>\n",
              "      <td>October</td>\n",
              "      <td>Tuesday</td>\n",
              "    </tr>\n",
              "    <tr>\n",
              "      <th>2</th>\n",
              "      <td>171-8103182-4289117</td>\n",
              "      <td>Sun, 28 Nov, 2021, 10:20 pm IST</td>\n",
              "      <td>yatipertin</td>\n",
              "      <td>PASIGHAT,</td>\n",
              "      <td>ARUNACHAL PRADESH</td>\n",
              "      <td>SKU:  DN-0WDX-VYOT</td>\n",
              "      <td>Women's Set of 5 Multicolor Pure Leather Singl...</td>\n",
              "      <td>1</td>\n",
              "      <td>₹449.00</td>\n",
              "      <td>₹60.18</td>\n",
              "      <td>NaN</td>\n",
              "      <td>Delivered to buyer</td>\n",
              "      <td>2021</td>\n",
              "      <td>2021-11-28</td>\n",
              "      <td>22:20:00</td>\n",
              "      <td>November</td>\n",
              "      <td>Sunday</td>\n",
              "    </tr>\n",
              "    <tr>\n",
              "      <th>3</th>\n",
              "      <td>405-3171677-9557154</td>\n",
              "      <td>Wed, 28 Jul, 2021, 4:06 am IST</td>\n",
              "      <td>aciya</td>\n",
              "      <td>DEVARAKONDA,</td>\n",
              "      <td>TELANGANA</td>\n",
              "      <td>SKU:  AH-J3AO-R7DN</td>\n",
              "      <td>Pure 100% Leather Block Print Rectangular Jewe...</td>\n",
              "      <td>1</td>\n",
              "      <td>NaN</td>\n",
              "      <td>NaN</td>\n",
              "      <td>Cash On Delivery</td>\n",
              "      <td>Delivered to buyer</td>\n",
              "      <td>2021</td>\n",
              "      <td>2021-07-28</td>\n",
              "      <td>04:06:00</td>\n",
              "      <td>July</td>\n",
              "      <td>Wednesday</td>\n",
              "    </tr>\n",
              "    <tr>\n",
              "      <th>4</th>\n",
              "      <td>402-8910771-1215552</td>\n",
              "      <td>Tue, 28 Sept, 2021, 2:50 pm IST</td>\n",
              "      <td>Susmita</td>\n",
              "      <td>MUMBAI,</td>\n",
              "      <td>MAHARASHTRA</td>\n",
              "      <td>SKU:  KL-7WAA-Z82I</td>\n",
              "      <td>Pure Leather Sling Bag with Multiple Pockets a...</td>\n",
              "      <td>1</td>\n",
              "      <td>₹1,099.00</td>\n",
              "      <td>₹84.96</td>\n",
              "      <td>NaN</td>\n",
              "      <td>Delivered to buyer</td>\n",
              "      <td>2021</td>\n",
              "      <td>2021-09-28</td>\n",
              "      <td>14:50:00</td>\n",
              "      <td>September</td>\n",
              "      <td>Tuesday</td>\n",
              "    </tr>\n",
              "  </tbody>\n",
              "</table>\n",
              "</div>\n",
              "      <button class=\"colab-df-convert\" onclick=\"convertToInteractive('df-48f5008e-2f4d-4544-9ecc-2f30d44599eb')\"\n",
              "              title=\"Convert this dataframe to an interactive table.\"\n",
              "              style=\"display:none;\">\n",
              "        \n",
              "  <svg xmlns=\"http://www.w3.org/2000/svg\" height=\"24px\"viewBox=\"0 0 24 24\"\n",
              "       width=\"24px\">\n",
              "    <path d=\"M0 0h24v24H0V0z\" fill=\"none\"/>\n",
              "    <path d=\"M18.56 5.44l.94 2.06.94-2.06 2.06-.94-2.06-.94-.94-2.06-.94 2.06-2.06.94zm-11 1L8.5 8.5l.94-2.06 2.06-.94-2.06-.94L8.5 2.5l-.94 2.06-2.06.94zm10 10l.94 2.06.94-2.06 2.06-.94-2.06-.94-.94-2.06-.94 2.06-2.06.94z\"/><path d=\"M17.41 7.96l-1.37-1.37c-.4-.4-.92-.59-1.43-.59-.52 0-1.04.2-1.43.59L10.3 9.45l-7.72 7.72c-.78.78-.78 2.05 0 2.83L4 21.41c.39.39.9.59 1.41.59.51 0 1.02-.2 1.41-.59l7.78-7.78 2.81-2.81c.8-.78.8-2.07 0-2.86zM5.41 20L4 18.59l7.72-7.72 1.47 1.35L5.41 20z\"/>\n",
              "  </svg>\n",
              "      </button>\n",
              "      \n",
              "  <style>\n",
              "    .colab-df-container {\n",
              "      display:flex;\n",
              "      flex-wrap:wrap;\n",
              "      gap: 12px;\n",
              "    }\n",
              "\n",
              "    .colab-df-convert {\n",
              "      background-color: #E8F0FE;\n",
              "      border: none;\n",
              "      border-radius: 50%;\n",
              "      cursor: pointer;\n",
              "      display: none;\n",
              "      fill: #1967D2;\n",
              "      height: 32px;\n",
              "      padding: 0 0 0 0;\n",
              "      width: 32px;\n",
              "    }\n",
              "\n",
              "    .colab-df-convert:hover {\n",
              "      background-color: #E2EBFA;\n",
              "      box-shadow: 0px 1px 2px rgba(60, 64, 67, 0.3), 0px 1px 3px 1px rgba(60, 64, 67, 0.15);\n",
              "      fill: #174EA6;\n",
              "    }\n",
              "\n",
              "    [theme=dark] .colab-df-convert {\n",
              "      background-color: #3B4455;\n",
              "      fill: #D2E3FC;\n",
              "    }\n",
              "\n",
              "    [theme=dark] .colab-df-convert:hover {\n",
              "      background-color: #434B5C;\n",
              "      box-shadow: 0px 1px 3px 1px rgba(0, 0, 0, 0.15);\n",
              "      filter: drop-shadow(0px 1px 2px rgba(0, 0, 0, 0.3));\n",
              "      fill: #FFFFFF;\n",
              "    }\n",
              "  </style>\n",
              "\n",
              "      <script>\n",
              "        const buttonEl =\n",
              "          document.querySelector('#df-48f5008e-2f4d-4544-9ecc-2f30d44599eb button.colab-df-convert');\n",
              "        buttonEl.style.display =\n",
              "          google.colab.kernel.accessAllowed ? 'block' : 'none';\n",
              "\n",
              "        async function convertToInteractive(key) {\n",
              "          const element = document.querySelector('#df-48f5008e-2f4d-4544-9ecc-2f30d44599eb');\n",
              "          const dataTable =\n",
              "            await google.colab.kernel.invokeFunction('convertToInteractive',\n",
              "                                                     [key], {});\n",
              "          if (!dataTable) return;\n",
              "\n",
              "          const docLinkHtml = 'Like what you see? Visit the ' +\n",
              "            '<a target=\"_blank\" href=https://colab.research.google.com/notebooks/data_table.ipynb>data table notebook</a>'\n",
              "            + ' to learn more about interactive tables.';\n",
              "          element.innerHTML = '';\n",
              "          dataTable['output_type'] = 'display_data';\n",
              "          await google.colab.output.renderOutput(dataTable, element);\n",
              "          const docLink = document.createElement('div');\n",
              "          docLink.innerHTML = docLinkHtml;\n",
              "          element.appendChild(docLink);\n",
              "        }\n",
              "      </script>\n",
              "    </div>\n",
              "  </div>\n",
              "  "
            ]
          },
          "metadata": {},
          "execution_count": 7
        }
      ]
    },
    {
      "cell_type": "markdown",
      "source": [
        "Checking for the Missing values"
      ],
      "metadata": {
        "id": "GCRN9IOAtWS3"
      }
    },
    {
      "cell_type": "code",
      "source": [
        "data.isnull().mean()"
      ],
      "metadata": {
        "colab": {
          "base_uri": "https://localhost:8080/"
        },
        "id": "CTSLt--D7jBR",
        "outputId": "7458d353-6197-4455-e5e2-f5af0b0e5c66"
      },
      "execution_count": null,
      "outputs": [
        {
          "output_type": "execute_result",
          "data": {
            "text/plain": [
              "order_no        0.000000\n",
              "order_date      0.000000\n",
              "buyer           0.000000\n",
              "ship_city       0.000000\n",
              "ship_state      0.000000\n",
              "sku             0.000000\n",
              "description     0.000000\n",
              "quantity        0.000000\n",
              "item_total      0.105263\n",
              "shipping_fee    0.152047\n",
              "cod             0.725146\n",
              "order_status    0.000000\n",
              "year            0.000000\n",
              "date            0.000000\n",
              "time            0.000000\n",
              "month_name      0.000000\n",
              "day_name        0.000000\n",
              "dtype: float64"
            ]
          },
          "metadata": {},
          "execution_count": 8
        }
      ]
    },
    {
      "cell_type": "code",
      "source": [
        "data_sales=data[['date','item_total']].groupby('date').sum().reset_index()\n",
        "data_sales.head()"
      ],
      "metadata": {
        "colab": {
          "base_uri": "https://localhost:8080/",
          "height": 206
        },
        "id": "hR0LUVJR-wbs",
        "outputId": "bb5c6331-9e1b-4341-9604-ed844a6ccd3b"
      },
      "execution_count": null,
      "outputs": [
        {
          "output_type": "execute_result",
          "data": {
            "text/plain": [
              "         date             item_total\n",
              "0  2021-06-13                ₹175.00\n",
              "1  2021-06-16  ₹175.00₹175.00₹175.00\n",
              "2  2021-06-17                ₹200.00\n",
              "3  2021-06-23                ₹449.00\n",
              "4  2021-06-25                      0"
            ],
            "text/html": [
              "\n",
              "  <div id=\"df-39d7b5ea-8cd1-4816-a8e5-388df269f0ff\">\n",
              "    <div class=\"colab-df-container\">\n",
              "      <div>\n",
              "<style scoped>\n",
              "    .dataframe tbody tr th:only-of-type {\n",
              "        vertical-align: middle;\n",
              "    }\n",
              "\n",
              "    .dataframe tbody tr th {\n",
              "        vertical-align: top;\n",
              "    }\n",
              "\n",
              "    .dataframe thead th {\n",
              "        text-align: right;\n",
              "    }\n",
              "</style>\n",
              "<table border=\"1\" class=\"dataframe\">\n",
              "  <thead>\n",
              "    <tr style=\"text-align: right;\">\n",
              "      <th></th>\n",
              "      <th>date</th>\n",
              "      <th>item_total</th>\n",
              "    </tr>\n",
              "  </thead>\n",
              "  <tbody>\n",
              "    <tr>\n",
              "      <th>0</th>\n",
              "      <td>2021-06-13</td>\n",
              "      <td>₹175.00</td>\n",
              "    </tr>\n",
              "    <tr>\n",
              "      <th>1</th>\n",
              "      <td>2021-06-16</td>\n",
              "      <td>₹175.00₹175.00₹175.00</td>\n",
              "    </tr>\n",
              "    <tr>\n",
              "      <th>2</th>\n",
              "      <td>2021-06-17</td>\n",
              "      <td>₹200.00</td>\n",
              "    </tr>\n",
              "    <tr>\n",
              "      <th>3</th>\n",
              "      <td>2021-06-23</td>\n",
              "      <td>₹449.00</td>\n",
              "    </tr>\n",
              "    <tr>\n",
              "      <th>4</th>\n",
              "      <td>2021-06-25</td>\n",
              "      <td>0</td>\n",
              "    </tr>\n",
              "  </tbody>\n",
              "</table>\n",
              "</div>\n",
              "      <button class=\"colab-df-convert\" onclick=\"convertToInteractive('df-39d7b5ea-8cd1-4816-a8e5-388df269f0ff')\"\n",
              "              title=\"Convert this dataframe to an interactive table.\"\n",
              "              style=\"display:none;\">\n",
              "        \n",
              "  <svg xmlns=\"http://www.w3.org/2000/svg\" height=\"24px\"viewBox=\"0 0 24 24\"\n",
              "       width=\"24px\">\n",
              "    <path d=\"M0 0h24v24H0V0z\" fill=\"none\"/>\n",
              "    <path d=\"M18.56 5.44l.94 2.06.94-2.06 2.06-.94-2.06-.94-.94-2.06-.94 2.06-2.06.94zm-11 1L8.5 8.5l.94-2.06 2.06-.94-2.06-.94L8.5 2.5l-.94 2.06-2.06.94zm10 10l.94 2.06.94-2.06 2.06-.94-2.06-.94-.94-2.06-.94 2.06-2.06.94z\"/><path d=\"M17.41 7.96l-1.37-1.37c-.4-.4-.92-.59-1.43-.59-.52 0-1.04.2-1.43.59L10.3 9.45l-7.72 7.72c-.78.78-.78 2.05 0 2.83L4 21.41c.39.39.9.59 1.41.59.51 0 1.02-.2 1.41-.59l7.78-7.78 2.81-2.81c.8-.78.8-2.07 0-2.86zM5.41 20L4 18.59l7.72-7.72 1.47 1.35L5.41 20z\"/>\n",
              "  </svg>\n",
              "      </button>\n",
              "      \n",
              "  <style>\n",
              "    .colab-df-container {\n",
              "      display:flex;\n",
              "      flex-wrap:wrap;\n",
              "      gap: 12px;\n",
              "    }\n",
              "\n",
              "    .colab-df-convert {\n",
              "      background-color: #E8F0FE;\n",
              "      border: none;\n",
              "      border-radius: 50%;\n",
              "      cursor: pointer;\n",
              "      display: none;\n",
              "      fill: #1967D2;\n",
              "      height: 32px;\n",
              "      padding: 0 0 0 0;\n",
              "      width: 32px;\n",
              "    }\n",
              "\n",
              "    .colab-df-convert:hover {\n",
              "      background-color: #E2EBFA;\n",
              "      box-shadow: 0px 1px 2px rgba(60, 64, 67, 0.3), 0px 1px 3px 1px rgba(60, 64, 67, 0.15);\n",
              "      fill: #174EA6;\n",
              "    }\n",
              "\n",
              "    [theme=dark] .colab-df-convert {\n",
              "      background-color: #3B4455;\n",
              "      fill: #D2E3FC;\n",
              "    }\n",
              "\n",
              "    [theme=dark] .colab-df-convert:hover {\n",
              "      background-color: #434B5C;\n",
              "      box-shadow: 0px 1px 3px 1px rgba(0, 0, 0, 0.15);\n",
              "      filter: drop-shadow(0px 1px 2px rgba(0, 0, 0, 0.3));\n",
              "      fill: #FFFFFF;\n",
              "    }\n",
              "  </style>\n",
              "\n",
              "      <script>\n",
              "        const buttonEl =\n",
              "          document.querySelector('#df-39d7b5ea-8cd1-4816-a8e5-388df269f0ff button.colab-df-convert');\n",
              "        buttonEl.style.display =\n",
              "          google.colab.kernel.accessAllowed ? 'block' : 'none';\n",
              "\n",
              "        async function convertToInteractive(key) {\n",
              "          const element = document.querySelector('#df-39d7b5ea-8cd1-4816-a8e5-388df269f0ff');\n",
              "          const dataTable =\n",
              "            await google.colab.kernel.invokeFunction('convertToInteractive',\n",
              "                                                     [key], {});\n",
              "          if (!dataTable) return;\n",
              "\n",
              "          const docLinkHtml = 'Like what you see? Visit the ' +\n",
              "            '<a target=\"_blank\" href=https://colab.research.google.com/notebooks/data_table.ipynb>data table notebook</a>'\n",
              "            + ' to learn more about interactive tables.';\n",
              "          element.innerHTML = '';\n",
              "          dataTable['output_type'] = 'display_data';\n",
              "          await google.colab.output.renderOutput(dataTable, element);\n",
              "          const docLink = document.createElement('div');\n",
              "          docLink.innerHTML = docLinkHtml;\n",
              "          element.appendChild(docLink);\n",
              "        }\n",
              "      </script>\n",
              "    </div>\n",
              "  </div>\n",
              "  "
            ]
          },
          "metadata": {},
          "execution_count": 9
        }
      ]
    },
    {
      "cell_type": "markdown",
      "source": [
        "Removing comma(,) from the values "
      ],
      "metadata": {
        "id": "MaNjkSZbtdYs"
      }
    },
    {
      "cell_type": "code",
      "source": [
        "data['ship_city'] = data['ship_city'].apply(lambda x: x.replace(',',''))"
      ],
      "metadata": {
        "id": "UvhN6iY2IZLi"
      },
      "execution_count": null,
      "outputs": []
    },
    {
      "cell_type": "code",
      "source": [
        "data['item_total'] = data['item_total'].str.replace(',', '')\n",
        "data['item_total'] = data['item_total'].str.replace('₹', '')\n",
        "data['item_total'] = data['item_total'].astype(float)"
      ],
      "metadata": {
        "id": "MmHUVrrKBUPO"
      },
      "execution_count": null,
      "outputs": []
    },
    {
      "cell_type": "code",
      "source": [
        "data['shipping_fee'] = data['shipping_fee'].str.replace(',', '')\n",
        "data['shipping_fee'] = data['shipping_fee'].str.replace('₹', '')"
      ],
      "metadata": {
        "id": "xRqpvWaLC61r"
      },
      "execution_count": null,
      "outputs": []
    },
    {
      "cell_type": "markdown",
      "source": [
        "Filling missing values with mode"
      ],
      "metadata": {
        "id": "23efAh8btpG5"
      }
    },
    {
      "cell_type": "code",
      "source": [
        "def impute_nan(data,variable,mode):\n",
        "  data[variable+'_mode']=data[variable].fillna(mode)\n",
        "  data[variable+'_random']=data[variable]\n",
        "  random_sample=data[variable].dropna().sample(data[variable].isnull().sum(),random_state=0)\n",
        "  random_sample.index=data[data[variable].isnull()].index\n",
        "  data.loc[data[variable].isnull(),variable+'_random']=random_sample"
      ],
      "metadata": {
        "id": "O2OFLdfDEhXg"
      },
      "execution_count": null,
      "outputs": []
    },
    {
      "cell_type": "code",
      "source": [
        "mode=data.item_total.mode()"
      ],
      "metadata": {
        "id": "l69NpshsFJIN"
      },
      "execution_count": null,
      "outputs": []
    },
    {
      "cell_type": "code",
      "source": [
        "impute_nan(data,'item_total',mode)"
      ],
      "metadata": {
        "id": "DD-QAoVzEs4Q"
      },
      "execution_count": null,
      "outputs": []
    },
    {
      "cell_type": "code",
      "source": [
        "impute_nan(data,'shipping_fee',mode)"
      ],
      "metadata": {
        "id": "2UN1ujPiFk4u"
      },
      "execution_count": null,
      "outputs": []
    },
    {
      "cell_type": "code",
      "source": [
        "data['cod'].fillna('Online',inplace = True)"
      ],
      "metadata": {
        "id": "VdSFyGxFGM7_"
      },
      "execution_count": null,
      "outputs": []
    },
    {
      "cell_type": "code",
      "source": [
        "data.columns"
      ],
      "metadata": {
        "colab": {
          "base_uri": "https://localhost:8080/"
        },
        "id": "v9Bc19qQGuHW",
        "outputId": "a534fe7c-b9d5-4471-b73d-222ad7e93e35"
      },
      "execution_count": null,
      "outputs": [
        {
          "output_type": "execute_result",
          "data": {
            "text/plain": [
              "Index(['order_no', 'order_date', 'buyer', 'ship_city', 'ship_state', 'sku',\n",
              "       'description', 'quantity', 'item_total', 'shipping_fee', 'cod',\n",
              "       'order_status', 'year', 'date', 'time', 'month_name', 'day_name',\n",
              "       'item_total_mode', 'item_total_random', 'shipping_fee_mode',\n",
              "       'shipping_fee_random'],\n",
              "      dtype='object')"
            ]
          },
          "metadata": {},
          "execution_count": 18
        }
      ]
    },
    {
      "cell_type": "markdown",
      "source": [
        "Removing unnecessary columns"
      ],
      "metadata": {
        "id": "L2hBHki-tv6r"
      }
    },
    {
      "cell_type": "code",
      "source": [
        "df=data.drop(['order_no','order_date','buyer','ship_state','sku','description','item_total','shipping_fee',\n",
        "                'date','time','item_total_mode','shipping_fee_mode'],axis=1)"
      ],
      "metadata": {
        "id": "yvVlV9ckJMpZ"
      },
      "execution_count": null,
      "outputs": []
    },
    {
      "cell_type": "code",
      "source": [
        "df.head()"
      ],
      "metadata": {
        "colab": {
          "base_uri": "https://localhost:8080/",
          "height": 206
        },
        "id": "C_08WiwIJbj-",
        "outputId": "e203aeee-58bc-433a-82c6-bb430c81c0b6"
      },
      "execution_count": null,
      "outputs": [
        {
          "output_type": "execute_result",
          "data": {
            "text/plain": [
              "     ship_city  quantity               cod        order_status  year  \\\n",
              "0   CHANDIGARH         1            Online  Delivered to buyer  2021   \n",
              "1     PASIGHAT         1            Online  Delivered to buyer  2021   \n",
              "2     PASIGHAT         1            Online  Delivered to buyer  2021   \n",
              "3  DEVARAKONDA         1  Cash On Delivery  Delivered to buyer  2021   \n",
              "4       MUMBAI         1            Online  Delivered to buyer  2021   \n",
              "\n",
              "  month_name   day_name  item_total_random shipping_fee_random  \n",
              "0       July     Sunday              449.0               84.96  \n",
              "1    October    Tuesday              449.0               60.18  \n",
              "2   November     Sunday              449.0               60.18  \n",
              "3       July  Wednesday              399.0               84.96  \n",
              "4  September    Tuesday             1099.0               84.96  "
            ],
            "text/html": [
              "\n",
              "  <div id=\"df-cd6e05c6-55f9-471e-956a-aa667bba197c\">\n",
              "    <div class=\"colab-df-container\">\n",
              "      <div>\n",
              "<style scoped>\n",
              "    .dataframe tbody tr th:only-of-type {\n",
              "        vertical-align: middle;\n",
              "    }\n",
              "\n",
              "    .dataframe tbody tr th {\n",
              "        vertical-align: top;\n",
              "    }\n",
              "\n",
              "    .dataframe thead th {\n",
              "        text-align: right;\n",
              "    }\n",
              "</style>\n",
              "<table border=\"1\" class=\"dataframe\">\n",
              "  <thead>\n",
              "    <tr style=\"text-align: right;\">\n",
              "      <th></th>\n",
              "      <th>ship_city</th>\n",
              "      <th>quantity</th>\n",
              "      <th>cod</th>\n",
              "      <th>order_status</th>\n",
              "      <th>year</th>\n",
              "      <th>month_name</th>\n",
              "      <th>day_name</th>\n",
              "      <th>item_total_random</th>\n",
              "      <th>shipping_fee_random</th>\n",
              "    </tr>\n",
              "  </thead>\n",
              "  <tbody>\n",
              "    <tr>\n",
              "      <th>0</th>\n",
              "      <td>CHANDIGARH</td>\n",
              "      <td>1</td>\n",
              "      <td>Online</td>\n",
              "      <td>Delivered to buyer</td>\n",
              "      <td>2021</td>\n",
              "      <td>July</td>\n",
              "      <td>Sunday</td>\n",
              "      <td>449.0</td>\n",
              "      <td>84.96</td>\n",
              "    </tr>\n",
              "    <tr>\n",
              "      <th>1</th>\n",
              "      <td>PASIGHAT</td>\n",
              "      <td>1</td>\n",
              "      <td>Online</td>\n",
              "      <td>Delivered to buyer</td>\n",
              "      <td>2021</td>\n",
              "      <td>October</td>\n",
              "      <td>Tuesday</td>\n",
              "      <td>449.0</td>\n",
              "      <td>60.18</td>\n",
              "    </tr>\n",
              "    <tr>\n",
              "      <th>2</th>\n",
              "      <td>PASIGHAT</td>\n",
              "      <td>1</td>\n",
              "      <td>Online</td>\n",
              "      <td>Delivered to buyer</td>\n",
              "      <td>2021</td>\n",
              "      <td>November</td>\n",
              "      <td>Sunday</td>\n",
              "      <td>449.0</td>\n",
              "      <td>60.18</td>\n",
              "    </tr>\n",
              "    <tr>\n",
              "      <th>3</th>\n",
              "      <td>DEVARAKONDA</td>\n",
              "      <td>1</td>\n",
              "      <td>Cash On Delivery</td>\n",
              "      <td>Delivered to buyer</td>\n",
              "      <td>2021</td>\n",
              "      <td>July</td>\n",
              "      <td>Wednesday</td>\n",
              "      <td>399.0</td>\n",
              "      <td>84.96</td>\n",
              "    </tr>\n",
              "    <tr>\n",
              "      <th>4</th>\n",
              "      <td>MUMBAI</td>\n",
              "      <td>1</td>\n",
              "      <td>Online</td>\n",
              "      <td>Delivered to buyer</td>\n",
              "      <td>2021</td>\n",
              "      <td>September</td>\n",
              "      <td>Tuesday</td>\n",
              "      <td>1099.0</td>\n",
              "      <td>84.96</td>\n",
              "    </tr>\n",
              "  </tbody>\n",
              "</table>\n",
              "</div>\n",
              "      <button class=\"colab-df-convert\" onclick=\"convertToInteractive('df-cd6e05c6-55f9-471e-956a-aa667bba197c')\"\n",
              "              title=\"Convert this dataframe to an interactive table.\"\n",
              "              style=\"display:none;\">\n",
              "        \n",
              "  <svg xmlns=\"http://www.w3.org/2000/svg\" height=\"24px\"viewBox=\"0 0 24 24\"\n",
              "       width=\"24px\">\n",
              "    <path d=\"M0 0h24v24H0V0z\" fill=\"none\"/>\n",
              "    <path d=\"M18.56 5.44l.94 2.06.94-2.06 2.06-.94-2.06-.94-.94-2.06-.94 2.06-2.06.94zm-11 1L8.5 8.5l.94-2.06 2.06-.94-2.06-.94L8.5 2.5l-.94 2.06-2.06.94zm10 10l.94 2.06.94-2.06 2.06-.94-2.06-.94-.94-2.06-.94 2.06-2.06.94z\"/><path d=\"M17.41 7.96l-1.37-1.37c-.4-.4-.92-.59-1.43-.59-.52 0-1.04.2-1.43.59L10.3 9.45l-7.72 7.72c-.78.78-.78 2.05 0 2.83L4 21.41c.39.39.9.59 1.41.59.51 0 1.02-.2 1.41-.59l7.78-7.78 2.81-2.81c.8-.78.8-2.07 0-2.86zM5.41 20L4 18.59l7.72-7.72 1.47 1.35L5.41 20z\"/>\n",
              "  </svg>\n",
              "      </button>\n",
              "      \n",
              "  <style>\n",
              "    .colab-df-container {\n",
              "      display:flex;\n",
              "      flex-wrap:wrap;\n",
              "      gap: 12px;\n",
              "    }\n",
              "\n",
              "    .colab-df-convert {\n",
              "      background-color: #E8F0FE;\n",
              "      border: none;\n",
              "      border-radius: 50%;\n",
              "      cursor: pointer;\n",
              "      display: none;\n",
              "      fill: #1967D2;\n",
              "      height: 32px;\n",
              "      padding: 0 0 0 0;\n",
              "      width: 32px;\n",
              "    }\n",
              "\n",
              "    .colab-df-convert:hover {\n",
              "      background-color: #E2EBFA;\n",
              "      box-shadow: 0px 1px 2px rgba(60, 64, 67, 0.3), 0px 1px 3px 1px rgba(60, 64, 67, 0.15);\n",
              "      fill: #174EA6;\n",
              "    }\n",
              "\n",
              "    [theme=dark] .colab-df-convert {\n",
              "      background-color: #3B4455;\n",
              "      fill: #D2E3FC;\n",
              "    }\n",
              "\n",
              "    [theme=dark] .colab-df-convert:hover {\n",
              "      background-color: #434B5C;\n",
              "      box-shadow: 0px 1px 3px 1px rgba(0, 0, 0, 0.15);\n",
              "      filter: drop-shadow(0px 1px 2px rgba(0, 0, 0, 0.3));\n",
              "      fill: #FFFFFF;\n",
              "    }\n",
              "  </style>\n",
              "\n",
              "      <script>\n",
              "        const buttonEl =\n",
              "          document.querySelector('#df-cd6e05c6-55f9-471e-956a-aa667bba197c button.colab-df-convert');\n",
              "        buttonEl.style.display =\n",
              "          google.colab.kernel.accessAllowed ? 'block' : 'none';\n",
              "\n",
              "        async function convertToInteractive(key) {\n",
              "          const element = document.querySelector('#df-cd6e05c6-55f9-471e-956a-aa667bba197c');\n",
              "          const dataTable =\n",
              "            await google.colab.kernel.invokeFunction('convertToInteractive',\n",
              "                                                     [key], {});\n",
              "          if (!dataTable) return;\n",
              "\n",
              "          const docLinkHtml = 'Like what you see? Visit the ' +\n",
              "            '<a target=\"_blank\" href=https://colab.research.google.com/notebooks/data_table.ipynb>data table notebook</a>'\n",
              "            + ' to learn more about interactive tables.';\n",
              "          element.innerHTML = '';\n",
              "          dataTable['output_type'] = 'display_data';\n",
              "          await google.colab.output.renderOutput(dataTable, element);\n",
              "          const docLink = document.createElement('div');\n",
              "          docLink.innerHTML = docLinkHtml;\n",
              "          element.appendChild(docLink);\n",
              "        }\n",
              "      </script>\n",
              "    </div>\n",
              "  </div>\n",
              "  "
            ]
          },
          "metadata": {},
          "execution_count": 20
        }
      ]
    },
    {
      "cell_type": "markdown",
      "source": [
        "Taking all categoricla features in a list"
      ],
      "metadata": {
        "id": "fNtNaHp8u_JG"
      }
    },
    {
      "cell_type": "code",
      "source": [
        "categorical=df.select_dtypes('object').columns.tolist()\n",
        "categorical"
      ],
      "metadata": {
        "colab": {
          "base_uri": "https://localhost:8080/"
        },
        "id": "6uDi5iahK6tA",
        "outputId": "a2682ab8-e876-490a-ceac-12ea63dcbac5"
      },
      "execution_count": null,
      "outputs": [
        {
          "output_type": "execute_result",
          "data": {
            "text/plain": [
              "['ship_city',\n",
              " 'cod',\n",
              " 'order_status',\n",
              " 'month_name',\n",
              " 'day_name',\n",
              " 'shipping_fee_random']"
            ]
          },
          "metadata": {},
          "execution_count": 21
        }
      ]
    },
    {
      "cell_type": "markdown",
      "source": [
        "Label Encoding for categorical features"
      ],
      "metadata": {
        "id": "FISF0gG7t2Y-"
      }
    },
    {
      "cell_type": "code",
      "source": [
        "from sklearn.preprocessing import LabelEncoder\n",
        "encoder=LabelEncoder()\n",
        "for i in categorical:\n",
        "  df[i]=encoder.fit_transform(df[i])"
      ],
      "metadata": {
        "id": "45JKIR5gLAWx"
      },
      "execution_count": null,
      "outputs": []
    },
    {
      "cell_type": "code",
      "source": [
        "df['order_status'].value_counts()"
      ],
      "metadata": {
        "colab": {
          "base_uri": "https://localhost:8080/"
        },
        "id": "FxGO2v0rJtWa",
        "outputId": "526b9a1d-67df-4926-df0c-fd50b7db6b91"
      },
      "execution_count": null,
      "outputs": [
        {
          "output_type": "execute_result",
          "data": {
            "text/plain": [
              "0    160\n",
              "1     11\n",
              "Name: order_status, dtype: int64"
            ]
          },
          "metadata": {},
          "execution_count": 23
        }
      ]
    },
    {
      "cell_type": "code",
      "source": [
        "x=df.drop('order_status',axis=1)\n",
        "y=df['order_status']"
      ],
      "metadata": {
        "id": "DZYKRSrXKcpn"
      },
      "execution_count": null,
      "outputs": []
    },
    {
      "cell_type": "code",
      "source": [
        "df.head()"
      ],
      "metadata": {
        "colab": {
          "base_uri": "https://localhost:8080/",
          "height": 206
        },
        "id": "_l4T0vIbLu0g",
        "outputId": "2c9e74e3-78ee-4351-fa58-2b0b19a58bdc"
      },
      "execution_count": null,
      "outputs": [
        {
          "output_type": "execute_result",
          "data": {
            "text/plain": [
              "   ship_city  quantity  cod  order_status  year  month_name  day_name  \\\n",
              "0         13         1    1             0  2021           4         3   \n",
              "1         56         1    1             0  2021           7         5   \n",
              "2         56         1    1             0  2021           6         3   \n",
              "3         18         1    0             0  2021           4         6   \n",
              "4         47         1    1             0  2021           8         5   \n",
              "\n",
              "   item_total_random  shipping_fee_random  \n",
              "0              449.0                   12  \n",
              "1              449.0                    8  \n",
              "2              449.0                    8  \n",
              "3              399.0                   12  \n",
              "4             1099.0                   12  "
            ],
            "text/html": [
              "\n",
              "  <div id=\"df-e76ab114-61c0-4a78-bd1f-59a65dd92a0e\">\n",
              "    <div class=\"colab-df-container\">\n",
              "      <div>\n",
              "<style scoped>\n",
              "    .dataframe tbody tr th:only-of-type {\n",
              "        vertical-align: middle;\n",
              "    }\n",
              "\n",
              "    .dataframe tbody tr th {\n",
              "        vertical-align: top;\n",
              "    }\n",
              "\n",
              "    .dataframe thead th {\n",
              "        text-align: right;\n",
              "    }\n",
              "</style>\n",
              "<table border=\"1\" class=\"dataframe\">\n",
              "  <thead>\n",
              "    <tr style=\"text-align: right;\">\n",
              "      <th></th>\n",
              "      <th>ship_city</th>\n",
              "      <th>quantity</th>\n",
              "      <th>cod</th>\n",
              "      <th>order_status</th>\n",
              "      <th>year</th>\n",
              "      <th>month_name</th>\n",
              "      <th>day_name</th>\n",
              "      <th>item_total_random</th>\n",
              "      <th>shipping_fee_random</th>\n",
              "    </tr>\n",
              "  </thead>\n",
              "  <tbody>\n",
              "    <tr>\n",
              "      <th>0</th>\n",
              "      <td>13</td>\n",
              "      <td>1</td>\n",
              "      <td>1</td>\n",
              "      <td>0</td>\n",
              "      <td>2021</td>\n",
              "      <td>4</td>\n",
              "      <td>3</td>\n",
              "      <td>449.0</td>\n",
              "      <td>12</td>\n",
              "    </tr>\n",
              "    <tr>\n",
              "      <th>1</th>\n",
              "      <td>56</td>\n",
              "      <td>1</td>\n",
              "      <td>1</td>\n",
              "      <td>0</td>\n",
              "      <td>2021</td>\n",
              "      <td>7</td>\n",
              "      <td>5</td>\n",
              "      <td>449.0</td>\n",
              "      <td>8</td>\n",
              "    </tr>\n",
              "    <tr>\n",
              "      <th>2</th>\n",
              "      <td>56</td>\n",
              "      <td>1</td>\n",
              "      <td>1</td>\n",
              "      <td>0</td>\n",
              "      <td>2021</td>\n",
              "      <td>6</td>\n",
              "      <td>3</td>\n",
              "      <td>449.0</td>\n",
              "      <td>8</td>\n",
              "    </tr>\n",
              "    <tr>\n",
              "      <th>3</th>\n",
              "      <td>18</td>\n",
              "      <td>1</td>\n",
              "      <td>0</td>\n",
              "      <td>0</td>\n",
              "      <td>2021</td>\n",
              "      <td>4</td>\n",
              "      <td>6</td>\n",
              "      <td>399.0</td>\n",
              "      <td>12</td>\n",
              "    </tr>\n",
              "    <tr>\n",
              "      <th>4</th>\n",
              "      <td>47</td>\n",
              "      <td>1</td>\n",
              "      <td>1</td>\n",
              "      <td>0</td>\n",
              "      <td>2021</td>\n",
              "      <td>8</td>\n",
              "      <td>5</td>\n",
              "      <td>1099.0</td>\n",
              "      <td>12</td>\n",
              "    </tr>\n",
              "  </tbody>\n",
              "</table>\n",
              "</div>\n",
              "      <button class=\"colab-df-convert\" onclick=\"convertToInteractive('df-e76ab114-61c0-4a78-bd1f-59a65dd92a0e')\"\n",
              "              title=\"Convert this dataframe to an interactive table.\"\n",
              "              style=\"display:none;\">\n",
              "        \n",
              "  <svg xmlns=\"http://www.w3.org/2000/svg\" height=\"24px\"viewBox=\"0 0 24 24\"\n",
              "       width=\"24px\">\n",
              "    <path d=\"M0 0h24v24H0V0z\" fill=\"none\"/>\n",
              "    <path d=\"M18.56 5.44l.94 2.06.94-2.06 2.06-.94-2.06-.94-.94-2.06-.94 2.06-2.06.94zm-11 1L8.5 8.5l.94-2.06 2.06-.94-2.06-.94L8.5 2.5l-.94 2.06-2.06.94zm10 10l.94 2.06.94-2.06 2.06-.94-2.06-.94-.94-2.06-.94 2.06-2.06.94z\"/><path d=\"M17.41 7.96l-1.37-1.37c-.4-.4-.92-.59-1.43-.59-.52 0-1.04.2-1.43.59L10.3 9.45l-7.72 7.72c-.78.78-.78 2.05 0 2.83L4 21.41c.39.39.9.59 1.41.59.51 0 1.02-.2 1.41-.59l7.78-7.78 2.81-2.81c.8-.78.8-2.07 0-2.86zM5.41 20L4 18.59l7.72-7.72 1.47 1.35L5.41 20z\"/>\n",
              "  </svg>\n",
              "      </button>\n",
              "      \n",
              "  <style>\n",
              "    .colab-df-container {\n",
              "      display:flex;\n",
              "      flex-wrap:wrap;\n",
              "      gap: 12px;\n",
              "    }\n",
              "\n",
              "    .colab-df-convert {\n",
              "      background-color: #E8F0FE;\n",
              "      border: none;\n",
              "      border-radius: 50%;\n",
              "      cursor: pointer;\n",
              "      display: none;\n",
              "      fill: #1967D2;\n",
              "      height: 32px;\n",
              "      padding: 0 0 0 0;\n",
              "      width: 32px;\n",
              "    }\n",
              "\n",
              "    .colab-df-convert:hover {\n",
              "      background-color: #E2EBFA;\n",
              "      box-shadow: 0px 1px 2px rgba(60, 64, 67, 0.3), 0px 1px 3px 1px rgba(60, 64, 67, 0.15);\n",
              "      fill: #174EA6;\n",
              "    }\n",
              "\n",
              "    [theme=dark] .colab-df-convert {\n",
              "      background-color: #3B4455;\n",
              "      fill: #D2E3FC;\n",
              "    }\n",
              "\n",
              "    [theme=dark] .colab-df-convert:hover {\n",
              "      background-color: #434B5C;\n",
              "      box-shadow: 0px 1px 3px 1px rgba(0, 0, 0, 0.15);\n",
              "      filter: drop-shadow(0px 1px 2px rgba(0, 0, 0, 0.3));\n",
              "      fill: #FFFFFF;\n",
              "    }\n",
              "  </style>\n",
              "\n",
              "      <script>\n",
              "        const buttonEl =\n",
              "          document.querySelector('#df-e76ab114-61c0-4a78-bd1f-59a65dd92a0e button.colab-df-convert');\n",
              "        buttonEl.style.display =\n",
              "          google.colab.kernel.accessAllowed ? 'block' : 'none';\n",
              "\n",
              "        async function convertToInteractive(key) {\n",
              "          const element = document.querySelector('#df-e76ab114-61c0-4a78-bd1f-59a65dd92a0e');\n",
              "          const dataTable =\n",
              "            await google.colab.kernel.invokeFunction('convertToInteractive',\n",
              "                                                     [key], {});\n",
              "          if (!dataTable) return;\n",
              "\n",
              "          const docLinkHtml = 'Like what you see? Visit the ' +\n",
              "            '<a target=\"_blank\" href=https://colab.research.google.com/notebooks/data_table.ipynb>data table notebook</a>'\n",
              "            + ' to learn more about interactive tables.';\n",
              "          element.innerHTML = '';\n",
              "          dataTable['output_type'] = 'display_data';\n",
              "          await google.colab.output.renderOutput(dataTable, element);\n",
              "          const docLink = document.createElement('div');\n",
              "          docLink.innerHTML = docLinkHtml;\n",
              "          element.appendChild(docLink);\n",
              "        }\n",
              "      </script>\n",
              "    </div>\n",
              "  </div>\n",
              "  "
            ]
          },
          "metadata": {},
          "execution_count": 25
        }
      ]
    },
    {
      "cell_type": "markdown",
      "source": [
        "Checking the target data for balancing"
      ],
      "metadata": {
        "id": "nm2GCdtVuJAm"
      }
    },
    {
      "cell_type": "code",
      "source": [
        "sns.countplot(y)"
      ],
      "metadata": {
        "colab": {
          "base_uri": "https://localhost:8080/",
          "height": 352
        },
        "id": "5I5R4DwKSAzK",
        "outputId": "b432ccbb-bd10-4fbe-f66f-f74d0c5674ea"
      },
      "execution_count": null,
      "outputs": [
        {
          "output_type": "stream",
          "name": "stderr",
          "text": [
            "/usr/local/lib/python3.7/dist-packages/seaborn/_decorators.py:43: FutureWarning: Pass the following variable as a keyword arg: x. From version 0.12, the only valid positional argument will be `data`, and passing other arguments without an explicit keyword will result in an error or misinterpretation.\n",
            "  FutureWarning\n"
          ]
        },
        {
          "output_type": "execute_result",
          "data": {
            "text/plain": [
              "<matplotlib.axes._subplots.AxesSubplot at 0x7fcb73a0b790>"
            ]
          },
          "metadata": {},
          "execution_count": 26
        },
        {
          "output_type": "display_data",
          "data": {
            "text/plain": [
              "<Figure size 432x288 with 1 Axes>"
            ],
            "image/png": "[encoded data removed]"
          },
          "metadata": {
            "needs_background": "light"
          }
        }
      ]
    },
    {
      "cell_type": "code",
      "source": [
        "from sklearn.preprocessing import StandardScaler\n",
        "scaler=StandardScaler()\n",
        "x_scaled=scaler.fit_transform(x)"
      ],
      "metadata": {
        "id": "Yda19Jh6LkpY"
      },
      "execution_count": null,
      "outputs": []
    },
    {
      "cell_type": "markdown",
      "source": [
        "Applying RandomOverSampler for balancing the data"
      ],
      "metadata": {
        "id": "iOmi-McOuQ15"
      }
    },
    {
      "cell_type": "code",
      "source": [
        "from imblearn.over_sampling import RandomOverSampler\n",
        "os=RandomOverSampler(0.75)\n",
        "x_os,y_os=os.fit_resample(x,y)\n"
      ],
      "metadata": {
        "id": "AfGsHp94KUmj",
        "colab": {
          "base_uri": "https://localhost:8080/"
        },
        "outputId": "5cfc5a19-6543-4e98-9e07-32920bc019ab"
      },
      "execution_count": null,
      "outputs": [
        {
          "output_type": "stream",
          "name": "stderr",
          "text": [
            "/usr/local/lib/python3.7/dist-packages/imblearn/utils/_validation.py:591: FutureWarning: Pass sampling_strategy=0.75 as keyword args. From version 0.9 passing these as positional arguments will result in an error\n",
            "  FutureWarning,\n"
          ]
        }
      ]
    },
    {
      "cell_type": "code",
      "source": [
        "from collections import Counter\n",
        "print(Counter(y))\n",
        "print(Counter(y_os))"
      ],
      "metadata": {
        "id": "o81iSJY8L2XG",
        "colab": {
          "base_uri": "https://localhost:8080/"
        },
        "outputId": "be150de6-9ed2-4d62-86ae-76203fee9620"
      },
      "execution_count": null,
      "outputs": [
        {
          "output_type": "stream",
          "name": "stdout",
          "text": [
            "Counter({0: 160, 1: 11})\n",
            "Counter({0: 160, 1: 120})\n"
          ]
        }
      ]
    },
    {
      "cell_type": "code",
      "source": [
        "# import seaborn as sns\n",
        "# sns.countplot(y_os)"
      ],
      "metadata": {
        "id": "iyOqiI-LMKkT"
      },
      "execution_count": null,
      "outputs": []
    },
    {
      "cell_type": "code",
      "source": [
        "# from imblearn.over_sampling import SMOTE\n",
        "# sm=SMOTE()\n",
        "# x_os,y_os=sm.fit_resample(x,y)"
      ],
      "metadata": {
        "id": "GodmNxiDSJ_j"
      },
      "execution_count": null,
      "outputs": []
    },
    {
      "cell_type": "markdown",
      "source": [
        "After balancing"
      ],
      "metadata": {
        "id": "qgToL2lruY5Y"
      }
    },
    {
      "cell_type": "code",
      "source": [
        "sns.countplot(y_os)"
      ],
      "metadata": {
        "colab": {
          "base_uri": "https://localhost:8080/",
          "height": 352
        },
        "id": "_PFjp2VmS6_p",
        "outputId": "3cc567d9-1803-4f7b-ebad-f5e89a950c27"
      },
      "execution_count": null,
      "outputs": [
        {
          "output_type": "stream",
          "name": "stderr",
          "text": [
            "/usr/local/lib/python3.7/dist-packages/seaborn/_decorators.py:43: FutureWarning: Pass the following variable as a keyword arg: x. From version 0.12, the only valid positional argument will be `data`, and passing other arguments without an explicit keyword will result in an error or misinterpretation.\n",
            "  FutureWarning\n"
          ]
        },
        {
          "output_type": "execute_result",
          "data": {
            "text/plain": [
              "<matplotlib.axes._subplots.AxesSubplot at 0x7fcb738f4c50>"
            ]
          },
          "metadata": {},
          "execution_count": 32
        },
        {
          "output_type": "display_data",
          "data": {
            "text/plain": [
              "<Figure size 432x288 with 1 Axes>"
            ],
            "image/png": "[encoded data removed]"
          },
          "metadata": {
            "needs_background": "light"
          }
        }
      ]
    },
    {
      "cell_type": "markdown",
      "source": [
        "Using Train_test_split"
      ],
      "metadata": {
        "id": "oZfij4kXufI7"
      }
    },
    {
      "cell_type": "code",
      "source": [
        "from sklearn.model_selection import train_test_split\n",
        "x_train,x_test,y_train,y_test=train_test_split(x_os,y_os,test_size=.20,random_state=42)\n",
        "x_train.shape,y_train.shape,x_test.shape,y_test.shape"
      ],
      "metadata": {
        "colab": {
          "base_uri": "https://localhost:8080/"
        },
        "id": "-yMsEElyMlho",
        "outputId": "6ff483d0-009e-4cbf-89e2-b4b7fe5bb40a"
      },
      "execution_count": null,
      "outputs": [
        {
          "output_type": "execute_result",
          "data": {
            "text/plain": [
              "((224, 8), (224,), (56, 8), (56,))"
            ]
          },
          "metadata": {},
          "execution_count": 33
        }
      ]
    },
    {
      "cell_type": "code",
      "source": [
        "from sklearn.metrics import accuracy_score,f1_score,classification_report,confusion_matrix,precision_score,recall_score"
      ],
      "metadata": {
        "id": "ZtMFaiOMMpR8"
      },
      "execution_count": null,
      "outputs": []
    },
    {
      "cell_type": "markdown",
      "source": [
        "Applying RandomForestClassifier algorithm"
      ],
      "metadata": {
        "id": "pGWKwJ5SukFL"
      }
    },
    {
      "cell_type": "code",
      "source": [
        "from sklearn.ensemble import RandomForestClassifier\n",
        "classifier=RandomForestClassifier(n_estimators=10,random_state=1)\n",
        "classifier.fit(x_train,y_train)\n",
        "y_pred=classifier.predict(x_test)"
      ],
      "metadata": {
        "id": "JdwfX7vQMu0j"
      },
      "execution_count": null,
      "outputs": []
    },
    {
      "cell_type": "code",
      "source": [
        "sns.heatmap(confusion_matrix(y_test,y_pred),annot=True,cmap='Blues')"
      ],
      "metadata": {
        "colab": {
          "base_uri": "https://localhost:8080/",
          "height": 286
        },
        "id": "lnzwUjLHNAKl",
        "outputId": "f8000362-cfd3-45dc-96e9-86e9fe8ed6d4"
      },
      "execution_count": null,
      "outputs": [
        {
          "output_type": "execute_result",
          "data": {
            "text/plain": [
              "<matplotlib.axes._subplots.AxesSubplot at 0x7fcb71fc2cd0>"
            ]
          },
          "metadata": {},
          "execution_count": 36
        },
        {
          "output_type": "display_data",
          "data": {
            "text/plain": [
              "<Figure size 432x288 with 2 Axes>"
            ],
            "image/png": "[encoded data removed]"
          },
          "metadata": {
            "needs_background": "light"
          }
        }
      ]
    },
    {
      "cell_type": "code",
      "source": [
        "print(classification_report(y_test,y_pred))"
      ],
      "metadata": {
        "colab": {
          "base_uri": "https://localhost:8080/"
        },
        "id": "pNwPb4ErNizd",
        "outputId": "4715e036-e27c-4113-eafe-87c5d08795a9"
      },
      "execution_count": null,
      "outputs": [
        {
          "output_type": "stream",
          "name": "stdout",
          "text": [
            "              precision    recall  f1-score   support\n",
            "\n",
            "           0       1.00      0.91      0.95        33\n",
            "           1       0.88      1.00      0.94        23\n",
            "\n",
            "    accuracy                           0.95        56\n",
            "   macro avg       0.94      0.95      0.95        56\n",
            "weighted avg       0.95      0.95      0.95        56\n",
            "\n"
          ]
        }
      ]
    },
    {
      "cell_type": "markdown",
      "source": [
        "Prediction"
      ],
      "metadata": {
        "id": "-12Ki9hQus1U"
      }
    },
    {
      "cell_type": "code",
      "source": [
        "df=pd.DataFrame(y_test,columns=['order_status'])\n",
        "\n",
        "df['Predicted']=y_pred\n",
        "df.head(10)"
      ],
      "metadata": {
        "colab": {
          "base_uri": "https://localhost:8080/",
          "height": 363
        },
        "id": "owbafBuiPCyH",
        "outputId": "7cc3691f-b8a0-4808-eba8-bbd418b11770"
      },
      "execution_count": null,
      "outputs": [
        {
          "output_type": "execute_result",
          "data": {
            "text/plain": [
              "     order_status  Predicted\n",
              "33              0          0\n",
              "108             0          0\n",
              "240             1          1\n",
              "259             1          1\n",
              "154             0          0\n",
              "9               0          0\n",
              "146             0          0\n",
              "203             1          1\n",
              "144             0          0\n",
              "155             0          0"
            ],
            "text/html": [
              "\n",
              "  <div id=\"df-65af8d18-229a-4a40-b057-7cae6785cf95\">\n",
              "    <div class=\"colab-df-container\">\n",
              "      <div>\n",
              "<style scoped>\n",
              "    .dataframe tbody tr th:only-of-type {\n",
              "        vertical-align: middle;\n",
              "    }\n",
              "\n",
              "    .dataframe tbody tr th {\n",
              "        vertical-align: top;\n",
              "    }\n",
              "\n",
              "    .dataframe thead th {\n",
              "        text-align: right;\n",
              "    }\n",
              "</style>\n",
              "<table border=\"1\" class=\"dataframe\">\n",
              "  <thead>\n",
              "    <tr style=\"text-align: right;\">\n",
              "      <th></th>\n",
              "      <th>order_status</th>\n",
              "      <th>Predicted</th>\n",
              "    </tr>\n",
              "  </thead>\n",
              "  <tbody>\n",
              "    <tr>\n",
              "      <th>33</th>\n",
              "      <td>0</td>\n",
              "      <td>0</td>\n",
              "    </tr>\n",
              "    <tr>\n",
              "      <th>108</th>\n",
              "      <td>0</td>\n",
              "      <td>0</td>\n",
              "    </tr>\n",
              "    <tr>\n",
              "      <th>240</th>\n",
              "      <td>1</td>\n",
              "      <td>1</td>\n",
              "    </tr>\n",
              "    <tr>\n",
              "      <th>259</th>\n",
              "      <td>1</td>\n",
              "      <td>1</td>\n",
              "    </tr>\n",
              "    <tr>\n",
              "      <th>154</th>\n",
              "      <td>0</td>\n",
              "      <td>0</td>\n",
              "    </tr>\n",
              "    <tr>\n",
              "      <th>9</th>\n",
              "      <td>0</td>\n",
              "      <td>0</td>\n",
              "    </tr>\n",
              "    <tr>\n",
              "      <th>146</th>\n",
              "      <td>0</td>\n",
              "      <td>0</td>\n",
              "    </tr>\n",
              "    <tr>\n",
              "      <th>203</th>\n",
              "      <td>1</td>\n",
              "      <td>1</td>\n",
              "    </tr>\n",
              "    <tr>\n",
              "      <th>144</th>\n",
              "      <td>0</td>\n",
              "      <td>0</td>\n",
              "    </tr>\n",
              "    <tr>\n",
              "      <th>155</th>\n",
              "      <td>0</td>\n",
              "      <td>0</td>\n",
              "    </tr>\n",
              "  </tbody>\n",
              "</table>\n",
              "</div>\n",
              "      <button class=\"colab-df-convert\" onclick=\"convertToInteractive('df-65af8d18-229a-4a40-b057-7cae6785cf95')\"\n",
              "              title=\"Convert this dataframe to an interactive table.\"\n",
              "              style=\"display:none;\">\n",
              "        \n",
              "  <svg xmlns=\"http://www.w3.org/2000/svg\" height=\"24px\"viewBox=\"0 0 24 24\"\n",
              "       width=\"24px\">\n",
              "    <path d=\"M0 0h24v24H0V0z\" fill=\"none\"/>\n",
              "    <path d=\"M18.56 5.44l.94 2.06.94-2.06 2.06-.94-2.06-.94-.94-2.06-.94 2.06-2.06.94zm-11 1L8.5 8.5l.94-2.06 2.06-.94-2.06-.94L8.5 2.5l-.94 2.06-2.06.94zm10 10l.94 2.06.94-2.06 2.06-.94-2.06-.94-.94-2.06-.94 2.06-2.06.94z\"/><path d=\"M17.41 7.96l-1.37-1.37c-.4-.4-.92-.59-1.43-.59-.52 0-1.04.2-1.43.59L10.3 9.45l-7.72 7.72c-.78.78-.78 2.05 0 2.83L4 21.41c.39.39.9.59 1.41.59.51 0 1.02-.2 1.41-.59l7.78-7.78 2.81-2.81c.8-.78.8-2.07 0-2.86zM5.41 20L4 18.59l7.72-7.72 1.47 1.35L5.41 20z\"/>\n",
              "  </svg>\n",
              "      </button>\n",
              "      \n",
              "  <style>\n",
              "    .colab-df-container {\n",
              "      display:flex;\n",
              "      flex-wrap:wrap;\n",
              "      gap: 12px;\n",
              "    }\n",
              "\n",
              "    .colab-df-convert {\n",
              "      background-color: #E8F0FE;\n",
              "      border: none;\n",
              "      border-radius: 50%;\n",
              "      cursor: pointer;\n",
              "      display: none;\n",
              "      fill: #1967D2;\n",
              "      height: 32px;\n",
              "      padding: 0 0 0 0;\n",
              "      width: 32px;\n",
              "    }\n",
              "\n",
              "    .colab-df-convert:hover {\n",
              "      background-color: #E2EBFA;\n",
              "      box-shadow: 0px 1px 2px rgba(60, 64, 67, 0.3), 0px 1px 3px 1px rgba(60, 64, 67, 0.15);\n",
              "      fill: #174EA6;\n",
              "    }\n",
              "\n",
              "    [theme=dark] .colab-df-convert {\n",
              "      background-color: #3B4455;\n",
              "      fill: #D2E3FC;\n",
              "    }\n",
              "\n",
              "    [theme=dark] .colab-df-convert:hover {\n",
              "      background-color: #434B5C;\n",
              "      box-shadow: 0px 1px 3px 1px rgba(0, 0, 0, 0.15);\n",
              "      filter: drop-shadow(0px 1px 2px rgba(0, 0, 0, 0.3));\n",
              "      fill: #FFFFFF;\n",
              "    }\n",
              "  </style>\n",
              "\n",
              "      <script>\n",
              "        const buttonEl =\n",
              "          document.querySelector('#df-65af8d18-229a-4a40-b057-7cae6785cf95 button.colab-df-convert');\n",
              "        buttonEl.style.display =\n",
              "          google.colab.kernel.accessAllowed ? 'block' : 'none';\n",
              "\n",
              "        async function convertToInteractive(key) {\n",
              "          const element = document.querySelector('#df-65af8d18-229a-4a40-b057-7cae6785cf95');\n",
              "          const dataTable =\n",
              "            await google.colab.kernel.invokeFunction('convertToInteractive',\n",
              "                                                     [key], {});\n",
              "          if (!dataTable) return;\n",
              "\n",
              "          const docLinkHtml = 'Like what you see? Visit the ' +\n",
              "            '<a target=\"_blank\" href=https://colab.research.google.com/notebooks/data_table.ipynb>data table notebook</a>'\n",
              "            + ' to learn more about interactive tables.';\n",
              "          element.innerHTML = '';\n",
              "          dataTable['output_type'] = 'display_data';\n",
              "          await google.colab.output.renderOutput(dataTable, element);\n",
              "          const docLink = document.createElement('div');\n",
              "          docLink.innerHTML = docLinkHtml;\n",
              "          element.appendChild(docLink);\n",
              "        }\n",
              "      </script>\n",
              "    </div>\n",
              "  </div>\n",
              "  "
            ]
          },
          "metadata": {},
          "execution_count": 38
        }
      ]
    }
  ]
}